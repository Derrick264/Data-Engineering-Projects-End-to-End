{
"cells": \[
{
"cell\_type": "markdown",
"metadata": {},
"source": \[
"# Ekart Logistics - Exploratory Data Analysis (EDA)\n",
"\n",
"**Objective:** To explore the clean, processed data from the **Silver Layer** of our data pipeline. This notebook will analyze the distributions, trends, and relationships within the dataset to uncover initial insights into customer behavior, order patterns, and delivery performance."
]
},
{
"cell\_type": "markdown",
"metadata": {},
"source": \[
"## 1. Setup and Database Connection\n",
"\n",
"First, we'll import the necessary libraries and establish a connection to our PostgreSQL database to load the clean Silver layer tables."
]
},
{
"cell\_type": "code",
"execution\_count": null,
"metadata": {},
"outputs": \[],
"source": \[
"import os\n",
"import pandas as pd\n",
"from sqlalchemy import create\_engine\n",
"from dotenv import load\_dotenv\n",
"import matplotlib.pyplot as plt\n",
"import seaborn as sns\n",
"\n",
"# Set plot style\n",
"sns.set\_style("whitegrid")\n",
"plt.rcParams\['figure.figsize'] = (12, 6)\n",
"\n",
"# Load environment variables from .env file\n",
"load\_dotenv()\n",
"\n",
"# Database connection details\n",
"DB\_USER = os.getenv("POSTGRES\_USER")\n",
"DB\_PASSWORD = os.getenv("POSTGRES\_PASSWORD")\n",
"DB\_HOST = os.getenv("POSTGRES\_HOST")\n",
"DB\_PORT = os.getenv("POSTGRES\_PORT")\n",
"DB\_NAME = os.getenv("POSTGRES\_DB")\n",
"\n",
"# Create database engine\n",
"try:\n",
"    engine = create\_engine(f"postgresql+psycopg2://{DB\_USER}:{DB\_PASSWORD}@{DB\_HOST}:{DB\_PORT}/{DB\_NAME}")\n",
"    print("Successfully connected to the database.")\n",
"except Exception as e:\n",
"    print(f"Failed to connect to the database. Error: {e}")"
]
}
],
"metadata": {
"kernelspec": {
"display\_name": "Python 3",
"language": "python",
"name": "python3"
},
"language\_info": {
"name": "python",
"version": "3.10"
}
},
"nbformat": 4,
"nbformat\_minor": 2
}
