{
 "cells": [
  {
   "metadata": {},
   "cell_type": "markdown",
   "source": "Setup and Database Connection",
   "id": "bbbc3309dd721081"
  },
  {
   "cell_type": "code",
   "id": "initial_id",
   "metadata": {
    "collapsed": true,
    "ExecuteTime": {
     "end_time": "2025-08-27T10:17:34.057920Z",
     "start_time": "2025-08-27T10:17:34.046204Z"
    }
   },
   "source": [
    "import os\n",
    "import pandas as pd\n",
    "from sqlalchemy import create_engine\n",
    "from dotenv import load_dotenv\n",
    "import matplotlib.pyplot as plt\n",
    "import seaborn as sns\n",
    "\n",
    "# Set plot style for better visuals\n",
    "sns.set_style(\"whitegrid\")\n",
    "plt.rcParams['figure.figsize'] = (12, 6)\n",
    "\n",
    "# Load environment variables from .env file\n",
    "load_dotenv()\n",
    "\n",
    "# Database connection details\n",
    "DB_USER = os.getenv(\"POSTGRES_USER\")\n",
    "DB_PASSWORD = os.getenv(\"POSTGRES_PASSWORD\")\n",
    "DB_HOST = os.getenv(\"POSTGRES_HOST\")\n",
    "DB_PORT = os.getenv(\"POSTGRES_PORT\")\n",
    "DB_NAME = os.getenv(\"POSTGRES_DB\")\n",
    "\n",
    "# Create database engine\n",
    "try:\n",
    "    engine = create_engine(f\"postgresql+psycopg2://{DB_USER}:{DB_PASSWORD}@{DB_HOST}:{DB_PORT}/{DB_NAME}\")\n",
    "    print(\"Successfully connected to the database.\")\n",
    "except Exception as e:\n",
    "    print(f\"Failed to connect to the database. Error: {e}\")"
   ],
   "outputs": [
    {
     "name": "stderr",
     "output_type": "stream",
     "text": [
      "python-dotenv could not parse statement starting at line 8\n"
     ]
    },
    {
     "name": "stdout",
     "output_type": "stream",
     "text": [
      "Successfully connected to the database.\n"
     ]
    }
   ],
   "execution_count": 14
  },
  {
   "metadata": {
    "ExecuteTime": {
     "end_time": "2025-08-27T10:20:58.690487Z",
     "start_time": "2025-08-27T10:20:58.685267Z"
    }
   },
   "cell_type": "markdown",
   "source": "Load Data from Silver Layer",
   "id": "660f93e2f106b039"
  },
  {
   "metadata": {
    "ExecuteTime": {
     "end_time": "2025-08-27T10:15:45.569948Z",
     "start_time": "2025-08-27T10:15:45.306072Z"
    }
   },
   "cell_type": "code",
   "source": [
    "try:\n",
    "    customers_df = pd.read_sql('SELECT * FROM silver.\"Customers\"', engine)\n",
    "    orders_df = pd.read_sql('SELECT * FROM silver.\"Orders\"', engine)\n",
    "    shipments_df = pd.read_sql('SELECT * FROM silver.\"Shipments\"', engine)\n",
    "    drivers_df = pd.read_sql('SELECT * FROM silver.\"Drivers\"', engine)\n",
    "    vehicles_df = pd.read_sql('SELECT * FROM silver.\"Vehicles\"', engine)\n",
    "\n",
    "    print(\"All silver tables loaded successfully.\")\n",
    "except Exception as e:\n",
    "    print(f\"Error loading data: {e}\")"
   ],
   "id": "4754b59a3d691362",
   "outputs": [
    {
     "name": "stdout",
     "output_type": "stream",
     "text": [
      "✅ All silver tables loaded successfully.\n"
     ]
    }
   ],
   "execution_count": 8
  },
  {
   "metadata": {},
   "cell_type": "markdown",
   "source": "Initial Data Inspection",
   "id": "521b4c3a892def6b"
  },
  {
   "metadata": {
    "ExecuteTime": {
     "end_time": "2025-08-27T10:15:53.951368Z",
     "start_time": "2025-08-27T10:15:53.913096Z"
    }
   },
   "cell_type": "code",
   "source": [
    "print(\"--- Customers Table ---\")\n",
    "print(customers_df.info())\n",
    "print(\"\\n--- First 5 Rows of Customers ---\")\n",
    "display(customers_df.head())\n",
    "\n",
    "print(\"\\n\\n--- Shipments Table ---\")\n",
    "print(shipments_df.info())\n",
    "print(\"\\n--- First 5 Rows of Shipments ---\")\n",
    "display(shipments_df.head())"
   ],
   "id": "e4dede8a1af9fe4f",
   "outputs": [
    {
     "name": "stdout",
     "output_type": "stream",
     "text": [
      "--- Customers Table ---\n",
      "<class 'pandas.core.frame.DataFrame'>\n",
      "RangeIndex: 18982 entries, 0 to 18981\n",
      "Data columns (total 5 columns):\n",
      " #   Column            Non-Null Count  Dtype \n",
      "---  ------            --------------  ----- \n",
      " 0   customer_id       18982 non-null  int64 \n",
      " 1   customer_name     18982 non-null  object\n",
      " 2   email             18982 non-null  object\n",
      " 3   delivery_address  17033 non-null  object\n",
      " 4   signup_date       18982 non-null  object\n",
      "dtypes: int64(1), object(4)\n",
      "memory usage: 741.6+ KB\n",
      "None\n",
      "\n",
      "--- First 5 Rows of Customers ---\n"
     ]
    },
    {
     "data": {
      "text/plain": [
       "   customer_id  customer_name                       email  \\\n",
       "0            1       Dev Jain       dev.jain1@example.com   \n",
       "1           10   Saanvi Singh   saanvi.singh10@test.co.in   \n",
       "2          100     Anika Shah   anika.shah100@example.com   \n",
       "3         1000  Reyansh Mehta  duplicate.user@example.com   \n",
       "4        10000   Vivaan Gupta  duplicate.user@example.com   \n",
       "\n",
       "      delivery_address signup_date  \n",
       "0   12 Layout, Chennai  2024-05-25  \n",
       "1  94 Main St, Chennai  2024-08-21  \n",
       "2    18 Nagar, Chennai  2025-05-04  \n",
       "3    73 Nagar, Chennai  2024-08-24  \n",
       "4   52 Layout, Chennai  2024-10-02  "
      ],
      "text/html": [
       "<div>\n",
       "<style scoped>\n",
       "    .dataframe tbody tr th:only-of-type {\n",
       "        vertical-align: middle;\n",
       "    }\n",
       "\n",
       "    .dataframe tbody tr th {\n",
       "        vertical-align: top;\n",
       "    }\n",
       "\n",
       "    .dataframe thead th {\n",
       "        text-align: right;\n",
       "    }\n",
       "</style>\n",
       "<table border=\"1\" class=\"dataframe\">\n",
       "  <thead>\n",
       "    <tr style=\"text-align: right;\">\n",
       "      <th></th>\n",
       "      <th>customer_id</th>\n",
       "      <th>customer_name</th>\n",
       "      <th>email</th>\n",
       "      <th>delivery_address</th>\n",
       "      <th>signup_date</th>\n",
       "    </tr>\n",
       "  </thead>\n",
       "  <tbody>\n",
       "    <tr>\n",
       "      <th>0</th>\n",
       "      <td>1</td>\n",
       "      <td>Dev Jain</td>\n",
       "      <td>dev.jain1@example.com</td>\n",
       "      <td>12 Layout, Chennai</td>\n",
       "      <td>2024-05-25</td>\n",
       "    </tr>\n",
       "    <tr>\n",
       "      <th>1</th>\n",
       "      <td>10</td>\n",
       "      <td>Saanvi Singh</td>\n",
       "      <td>saanvi.singh10@test.co.in</td>\n",
       "      <td>94 Main St, Chennai</td>\n",
       "      <td>2024-08-21</td>\n",
       "    </tr>\n",
       "    <tr>\n",
       "      <th>2</th>\n",
       "      <td>100</td>\n",
       "      <td>Anika Shah</td>\n",
       "      <td>anika.shah100@example.com</td>\n",
       "      <td>18 Nagar, Chennai</td>\n",
       "      <td>2025-05-04</td>\n",
       "    </tr>\n",
       "    <tr>\n",
       "      <th>3</th>\n",
       "      <td>1000</td>\n",
       "      <td>Reyansh Mehta</td>\n",
       "      <td>duplicate.user@example.com</td>\n",
       "      <td>73 Nagar, Chennai</td>\n",
       "      <td>2024-08-24</td>\n",
       "    </tr>\n",
       "    <tr>\n",
       "      <th>4</th>\n",
       "      <td>10000</td>\n",
       "      <td>Vivaan Gupta</td>\n",
       "      <td>duplicate.user@example.com</td>\n",
       "      <td>52 Layout, Chennai</td>\n",
       "      <td>2024-10-02</td>\n",
       "    </tr>\n",
       "  </tbody>\n",
       "</table>\n",
       "</div>"
      ]
     },
     "metadata": {},
     "output_type": "display_data"
    },
    {
     "name": "stdout",
     "output_type": "stream",
     "text": [
      "\n",
      "\n",
      "--- Shipments Table ---\n",
      "<class 'pandas.core.frame.DataFrame'>\n",
      "RangeIndex: 14320 entries, 0 to 14319\n",
      "Data columns (total 7 columns):\n",
      " #   Column         Non-Null Count  Dtype         \n",
      "---  ------         --------------  -----         \n",
      " 0   shipment_id    14320 non-null  int64         \n",
      " 1   order_id       14320 non-null  int64         \n",
      " 2   driver_id      14320 non-null  int64         \n",
      " 3   vehicle_id     14320 non-null  int64         \n",
      " 4   dispatch_date  14320 non-null  datetime64[ns]\n",
      " 5   delivery_date  14320 non-null  datetime64[ns]\n",
      " 6   status         14320 non-null  object        \n",
      "dtypes: datetime64[ns](2), int64(4), object(1)\n",
      "memory usage: 783.2+ KB\n",
      "None\n",
      "\n",
      "--- First 5 Rows of Shipments ---\n"
     ]
    },
    {
     "data": {
      "text/plain": [
       "   shipment_id  order_id  driver_id  vehicle_id       dispatch_date  \\\n",
       "0            1         1        297          41 2024-07-19 03:41:49   \n",
       "1           10        10        109         160 2024-08-14 23:46:38   \n",
       "2        10000     10000         76         111 2024-10-12 21:26:23   \n",
       "3        10001     10001         57         141 2024-09-09 13:51:27   \n",
       "4        10002     10002        169          26 2024-12-08 06:56:50   \n",
       "\n",
       "        delivery_date      status  \n",
       "0 2024-07-19 09:31:47   Delivered  \n",
       "1 2024-08-17 16:06:08      Failed  \n",
       "2 2024-10-14 18:27:38   Delivered  \n",
       "3 2024-09-11 11:42:44  In Transit  \n",
       "4 2024-12-11 10:33:16      Failed  "
      ],
      "text/html": [
       "<div>\n",
       "<style scoped>\n",
       "    .dataframe tbody tr th:only-of-type {\n",
       "        vertical-align: middle;\n",
       "    }\n",
       "\n",
       "    .dataframe tbody tr th {\n",
       "        vertical-align: top;\n",
       "    }\n",
       "\n",
       "    .dataframe thead th {\n",
       "        text-align: right;\n",
       "    }\n",
       "</style>\n",
       "<table border=\"1\" class=\"dataframe\">\n",
       "  <thead>\n",
       "    <tr style=\"text-align: right;\">\n",
       "      <th></th>\n",
       "      <th>shipment_id</th>\n",
       "      <th>order_id</th>\n",
       "      <th>driver_id</th>\n",
       "      <th>vehicle_id</th>\n",
       "      <th>dispatch_date</th>\n",
       "      <th>delivery_date</th>\n",
       "      <th>status</th>\n",
       "    </tr>\n",
       "  </thead>\n",
       "  <tbody>\n",
       "    <tr>\n",
       "      <th>0</th>\n",
       "      <td>1</td>\n",
       "      <td>1</td>\n",
       "      <td>297</td>\n",
       "      <td>41</td>\n",
       "      <td>2024-07-19 03:41:49</td>\n",
       "      <td>2024-07-19 09:31:47</td>\n",
       "      <td>Delivered</td>\n",
       "    </tr>\n",
       "    <tr>\n",
       "      <th>1</th>\n",
       "      <td>10</td>\n",
       "      <td>10</td>\n",
       "      <td>109</td>\n",
       "      <td>160</td>\n",
       "      <td>2024-08-14 23:46:38</td>\n",
       "      <td>2024-08-17 16:06:08</td>\n",
       "      <td>Failed</td>\n",
       "    </tr>\n",
       "    <tr>\n",
       "      <th>2</th>\n",
       "      <td>10000</td>\n",
       "      <td>10000</td>\n",
       "      <td>76</td>\n",
       "      <td>111</td>\n",
       "      <td>2024-10-12 21:26:23</td>\n",
       "      <td>2024-10-14 18:27:38</td>\n",
       "      <td>Delivered</td>\n",
       "    </tr>\n",
       "    <tr>\n",
       "      <th>3</th>\n",
       "      <td>10001</td>\n",
       "      <td>10001</td>\n",
       "      <td>57</td>\n",
       "      <td>141</td>\n",
       "      <td>2024-09-09 13:51:27</td>\n",
       "      <td>2024-09-11 11:42:44</td>\n",
       "      <td>In Transit</td>\n",
       "    </tr>\n",
       "    <tr>\n",
       "      <th>4</th>\n",
       "      <td>10002</td>\n",
       "      <td>10002</td>\n",
       "      <td>169</td>\n",
       "      <td>26</td>\n",
       "      <td>2024-12-08 06:56:50</td>\n",
       "      <td>2024-12-11 10:33:16</td>\n",
       "      <td>Failed</td>\n",
       "    </tr>\n",
       "  </tbody>\n",
       "</table>\n",
       "</div>"
      ]
     },
     "metadata": {},
     "output_type": "display_data"
    }
   ],
   "execution_count": 9
  },
  {
   "metadata": {},
   "cell_type": "markdown",
   "source": "Descriptive Statistics",
   "id": "6549057a5eb03d44"
  },
  {
   "metadata": {
    "ExecuteTime": {
     "end_time": "2025-08-27T10:16:08.737467Z",
     "start_time": "2025-08-27T10:16:08.649435Z"
    }
   },
   "cell_type": "code",
   "source": [
    "# First, let's calculate delivery_hours for the shipments table\n",
    "shipments_df['delivery_hours'] = (pd.to_datetime(shipments_df['delivery_date']) - pd.to_datetime(shipments_df['dispatch_date'])).dt.total_seconds() / 3600\n",
    "\n",
    "print(\"--- Statistical Summary of Orders ---\")\n",
    "display(orders_df.describe())\n",
    "\n",
    "print(\"\\n\\n--- Statistical Summary of Shipments ---\")\n",
    "display(shipments_df.describe())"
   ],
   "id": "5788347e98668239",
   "outputs": [
    {
     "name": "stdout",
     "output_type": "stream",
     "text": [
      "--- Statistical Summary of Orders ---\n"
     ]
    },
    {
     "data": {
      "text/plain": [
       "           order_id   customer_id   order_total\n",
       "count  16715.000000  16715.000000  16715.000000\n",
       "mean   10125.554472   7577.157344   3004.614360\n",
       "std     5774.095352   5240.349544   1441.986606\n",
       "min        1.000000      1.000000    500.340000\n",
       "25%     5106.500000   3356.000000   1760.270000\n",
       "50%    10230.000000   6765.000000   3007.610000\n",
       "75%    15134.500000  10198.500000   4248.980000\n",
       "max    20000.000000  20000.000000   5500.000000"
      ],
      "text/html": [
       "<div>\n",
       "<style scoped>\n",
       "    .dataframe tbody tr th:only-of-type {\n",
       "        vertical-align: middle;\n",
       "    }\n",
       "\n",
       "    .dataframe tbody tr th {\n",
       "        vertical-align: top;\n",
       "    }\n",
       "\n",
       "    .dataframe thead th {\n",
       "        text-align: right;\n",
       "    }\n",
       "</style>\n",
       "<table border=\"1\" class=\"dataframe\">\n",
       "  <thead>\n",
       "    <tr style=\"text-align: right;\">\n",
       "      <th></th>\n",
       "      <th>order_id</th>\n",
       "      <th>customer_id</th>\n",
       "      <th>order_total</th>\n",
       "    </tr>\n",
       "  </thead>\n",
       "  <tbody>\n",
       "    <tr>\n",
       "      <th>count</th>\n",
       "      <td>16715.000000</td>\n",
       "      <td>16715.000000</td>\n",
       "      <td>16715.000000</td>\n",
       "    </tr>\n",
       "    <tr>\n",
       "      <th>mean</th>\n",
       "      <td>10125.554472</td>\n",
       "      <td>7577.157344</td>\n",
       "      <td>3004.614360</td>\n",
       "    </tr>\n",
       "    <tr>\n",
       "      <th>std</th>\n",
       "      <td>5774.095352</td>\n",
       "      <td>5240.349544</td>\n",
       "      <td>1441.986606</td>\n",
       "    </tr>\n",
       "    <tr>\n",
       "      <th>min</th>\n",
       "      <td>1.000000</td>\n",
       "      <td>1.000000</td>\n",
       "      <td>500.340000</td>\n",
       "    </tr>\n",
       "    <tr>\n",
       "      <th>25%</th>\n",
       "      <td>5106.500000</td>\n",
       "      <td>3356.000000</td>\n",
       "      <td>1760.270000</td>\n",
       "    </tr>\n",
       "    <tr>\n",
       "      <th>50%</th>\n",
       "      <td>10230.000000</td>\n",
       "      <td>6765.000000</td>\n",
       "      <td>3007.610000</td>\n",
       "    </tr>\n",
       "    <tr>\n",
       "      <th>75%</th>\n",
       "      <td>15134.500000</td>\n",
       "      <td>10198.500000</td>\n",
       "      <td>4248.980000</td>\n",
       "    </tr>\n",
       "    <tr>\n",
       "      <th>max</th>\n",
       "      <td>20000.000000</td>\n",
       "      <td>20000.000000</td>\n",
       "      <td>5500.000000</td>\n",
       "    </tr>\n",
       "  </tbody>\n",
       "</table>\n",
       "</div>"
      ]
     },
     "metadata": {},
     "output_type": "display_data"
    },
    {
     "name": "stdout",
     "output_type": "stream",
     "text": [
      "\n",
      "\n",
      "--- Statistical Summary of Shipments ---\n"
     ]
    },
    {
     "data": {
      "text/plain": [
       "        shipment_id      order_id     driver_id    vehicle_id  \\\n",
       "count  14320.000000  14320.000000  14320.000000  14320.000000   \n",
       "mean   10136.357612  10136.357612    248.671788    125.445182   \n",
       "min        1.000000      1.000000      1.000000      1.000000   \n",
       "25%     5147.500000   5147.500000    124.000000     63.000000   \n",
       "50%    10232.500000  10232.500000    247.000000    126.000000   \n",
       "75%    15114.250000  15114.250000    373.000000    188.000000   \n",
       "max    20000.000000  20000.000000    500.000000    250.000000   \n",
       "std     5765.562525   5765.562525    143.895704     72.436495   \n",
       "\n",
       "                       dispatch_date                  delivery_date  \\\n",
       "count                          14320                          14320   \n",
       "mean   2024-10-29 00:02:26.314595072  2024-10-31 12:32:28.275768064   \n",
       "min              2024-01-01 07:54:01            2024-01-01 17:59:26   \n",
       "25%       2024-06-02 00:47:24.500000            2024-06-04 19:07:43   \n",
       "50%              2024-10-28 07:02:12            2024-10-30 11:31:52   \n",
       "75%    2025-03-26 13:32:04.249999872     2025-03-29 05:49:42.500000   \n",
       "max              2025-08-26 12:48:20            2025-08-30 17:07:58   \n",
       "std                              NaN                            NaN   \n",
       "\n",
       "       delivery_hours  \n",
       "count    14320.000000  \n",
       "mean        60.500545  \n",
       "min          0.003056  \n",
       "25%         30.648542  \n",
       "50%         60.626528  \n",
       "75%         90.491458  \n",
       "max        119.997778  \n",
       "std         34.531042  "
      ],
      "text/html": [
       "<div>\n",
       "<style scoped>\n",
       "    .dataframe tbody tr th:only-of-type {\n",
       "        vertical-align: middle;\n",
       "    }\n",
       "\n",
       "    .dataframe tbody tr th {\n",
       "        vertical-align: top;\n",
       "    }\n",
       "\n",
       "    .dataframe thead th {\n",
       "        text-align: right;\n",
       "    }\n",
       "</style>\n",
       "<table border=\"1\" class=\"dataframe\">\n",
       "  <thead>\n",
       "    <tr style=\"text-align: right;\">\n",
       "      <th></th>\n",
       "      <th>shipment_id</th>\n",
       "      <th>order_id</th>\n",
       "      <th>driver_id</th>\n",
       "      <th>vehicle_id</th>\n",
       "      <th>dispatch_date</th>\n",
       "      <th>delivery_date</th>\n",
       "      <th>delivery_hours</th>\n",
       "    </tr>\n",
       "  </thead>\n",
       "  <tbody>\n",
       "    <tr>\n",
       "      <th>count</th>\n",
       "      <td>14320.000000</td>\n",
       "      <td>14320.000000</td>\n",
       "      <td>14320.000000</td>\n",
       "      <td>14320.000000</td>\n",
       "      <td>14320</td>\n",
       "      <td>14320</td>\n",
       "      <td>14320.000000</td>\n",
       "    </tr>\n",
       "    <tr>\n",
       "      <th>mean</th>\n",
       "      <td>10136.357612</td>\n",
       "      <td>10136.357612</td>\n",
       "      <td>248.671788</td>\n",
       "      <td>125.445182</td>\n",
       "      <td>2024-10-29 00:02:26.314595072</td>\n",
       "      <td>2024-10-31 12:32:28.275768064</td>\n",
       "      <td>60.500545</td>\n",
       "    </tr>\n",
       "    <tr>\n",
       "      <th>min</th>\n",
       "      <td>1.000000</td>\n",
       "      <td>1.000000</td>\n",
       "      <td>1.000000</td>\n",
       "      <td>1.000000</td>\n",
       "      <td>2024-01-01 07:54:01</td>\n",
       "      <td>2024-01-01 17:59:26</td>\n",
       "      <td>0.003056</td>\n",
       "    </tr>\n",
       "    <tr>\n",
       "      <th>25%</th>\n",
       "      <td>5147.500000</td>\n",
       "      <td>5147.500000</td>\n",
       "      <td>124.000000</td>\n",
       "      <td>63.000000</td>\n",
       "      <td>2024-06-02 00:47:24.500000</td>\n",
       "      <td>2024-06-04 19:07:43</td>\n",
       "      <td>30.648542</td>\n",
       "    </tr>\n",
       "    <tr>\n",
       "      <th>50%</th>\n",
       "      <td>10232.500000</td>\n",
       "      <td>10232.500000</td>\n",
       "      <td>247.000000</td>\n",
       "      <td>126.000000</td>\n",
       "      <td>2024-10-28 07:02:12</td>\n",
       "      <td>2024-10-30 11:31:52</td>\n",
       "      <td>60.626528</td>\n",
       "    </tr>\n",
       "    <tr>\n",
       "      <th>75%</th>\n",
       "      <td>15114.250000</td>\n",
       "      <td>15114.250000</td>\n",
       "      <td>373.000000</td>\n",
       "      <td>188.000000</td>\n",
       "      <td>2025-03-26 13:32:04.249999872</td>\n",
       "      <td>2025-03-29 05:49:42.500000</td>\n",
       "      <td>90.491458</td>\n",
       "    </tr>\n",
       "    <tr>\n",
       "      <th>max</th>\n",
       "      <td>20000.000000</td>\n",
       "      <td>20000.000000</td>\n",
       "      <td>500.000000</td>\n",
       "      <td>250.000000</td>\n",
       "      <td>2025-08-26 12:48:20</td>\n",
       "      <td>2025-08-30 17:07:58</td>\n",
       "      <td>119.997778</td>\n",
       "    </tr>\n",
       "    <tr>\n",
       "      <th>std</th>\n",
       "      <td>5765.562525</td>\n",
       "      <td>5765.562525</td>\n",
       "      <td>143.895704</td>\n",
       "      <td>72.436495</td>\n",
       "      <td>NaN</td>\n",
       "      <td>NaN</td>\n",
       "      <td>34.531042</td>\n",
       "    </tr>\n",
       "  </tbody>\n",
       "</table>\n",
       "</div>"
      ]
     },
     "metadata": {},
     "output_type": "display_data"
    }
   ],
   "execution_count": 10
  },
  {
   "metadata": {},
   "cell_type": "markdown",
   "source": "Distribution of Shipment Status",
   "id": "fb58111f00a12e4e"
  },
  {
   "metadata": {
    "ExecuteTime": {
     "end_time": "2025-08-27T10:16:17.955338Z",
     "start_time": "2025-08-27T10:16:17.747326Z"
    }
   },
   "cell_type": "code",
   "source": [
    "plt.figure(figsize=(10, 6))\n",
    "sns.countplot(data=shipments_df, x='status', palette='mako', order=shipments_df['status'].value_counts().index)\n",
    "plt.title('Distribution of Shipment Status', fontsize=16)\n",
    "plt.xlabel('Status', fontsize=12)\n",
    "plt.ylabel('Number of Shipments', fontsize=12)\n",
    "plt.show()"
   ],
   "id": "f5b4eac46481f715",
   "outputs": [
    {
     "name": "stderr",
     "output_type": "stream",
     "text": [
      "/tmp/ipykernel_97089/3636772090.py:2: FutureWarning: \n",
      "\n",
      "Passing `palette` without assigning `hue` is deprecated and will be removed in v0.14.0. Assign the `x` variable to `hue` and set `legend=False` for the same effect.\n",
      "\n",
      "  sns.countplot(data=shipments_df, x='status', palette='mako', order=shipments_df['status'].value_counts().index)\n"
     ]
    },
    {
     "data": {
      "text/plain": [
       "<Figure size 1000x600 with 1 Axes>"
      ],
      "image/png": "[encoded data removed]"
     },
     "metadata": {},
     "output_type": "display_data"
    }
   ],
   "execution_count": 11
  },
  {
   "metadata": {},
   "cell_type": "markdown",
   "source": "Delivery Time by Vehicle Type ",
   "id": "8ef99608c8497d46"
  },
  {
   "metadata": {
    "ExecuteTime": {
     "end_time": "2025-08-27T10:16:37.252773Z",
     "start_time": "2025-08-27T10:16:37.015235Z"
    }
   },
   "cell_type": "code",
   "source": [
    "# Merge shipments with vehicles to get the vehicle_type\n",
    "shipments_vehicles_df = pd.merge(shipments_df, vehicles_df, on='vehicle_id')\n",
    "\n",
    "plt.figure(figsize=(12, 7))\n",
    "sns.boxplot(data=shipments_vehicles_df, x='vehicle_type', y='delivery_hours', palette='coolwarm')\n",
    "plt.title('Delivery Time by Vehicle Type', fontsize=16)\n",
    "plt.xlabel('Vehicle Type', fontsize=12)\n",
    "plt.ylabel('Delivery Time (Hours)', fontsize=12)\n",
    "plt.ylim(0, 200) # Zoom in to see the boxes more clearly\n",
    "plt.show()"
   ],
   "id": "6d68e24947f093dc",
   "outputs": [
    {
     "name": "stderr",
     "output_type": "stream",
     "text": [
      "/tmp/ipykernel_97089/689748429.py:5: FutureWarning: \n",
      "\n",
      "Passing `palette` without assigning `hue` is deprecated and will be removed in v0.14.0. Assign the `x` variable to `hue` and set `legend=False` for the same effect.\n",
      "\n",
      "  sns.boxplot(data=shipments_vehicles_df, x='vehicle_type', y='delivery_hours', palette='coolwarm')\n"
     ]
    },
    {
     "data": {
      "text/plain": [
       "<Figure size 1200x700 with 1 Axes>"
      ],
      "image/png": "[encoded data removed]"
     },
     "metadata": {},
     "output_type": "display_data"
    }
   ],
   "execution_count": 13
  },
  {
   "metadata": {},
   "cell_type": "markdown",
   "source": "Orders by Day of the Week",
   "id": "d33ca0740ec082ab"
  },
  {
   "metadata": {
    "ExecuteTime": {
     "end_time": "2025-08-27T10:20:10.840764Z",
     "start_time": "2025-08-27T10:20:10.600563Z"
    }
   },
   "cell_type": "code",
   "source": [
    "# Extract the day of the week from the order_date (Monday=0, Sunday=6)\n",
    "orders_df['day_of_week'] = pd.to_datetime(orders_df['order_date']).dt.dayofweek\n",
    "day_names = ['Monday', 'Tuesday', 'Wednesday', 'Thursday', 'Friday', 'Saturday', 'Sunday']\n",
    "orders_df['day_name'] = orders_df['day_of_week'].apply(lambda x: day_names[x])\n",
    "\n",
    "plt.figure(figsize=(12, 6))\n",
    "sns.countplot(data=orders_df, x='day_name', order=day_names, palette='cubehelix')\n",
    "plt.title('Number of Orders by Day of the Week', fontsize=16)\n",
    "plt.xlabel('Day of the Week', fontsize=12)\n",
    "plt.ylabel('Total Orders', fontsize=12)\n",
    "plt.show()"
   ],
   "id": "7f2c40dc6c5836e0",
   "outputs": [
    {
     "name": "stderr",
     "output_type": "stream",
     "text": [
      "/tmp/ipykernel_97089/826525616.py:7: FutureWarning: \n",
      "\n",
      "Passing `palette` without assigning `hue` is deprecated and will be removed in v0.14.0. Assign the `x` variable to `hue` and set `legend=False` for the same effect.\n",
      "\n",
      "  sns.countplot(data=orders_df, x='day_name', order=day_names, palette='cubehelix')\n"
     ]
    },
    {
     "data": {
      "text/plain": [
       "<Figure size 1200x600 with 1 Axes>"
      ],
      "image/png": "[encoded data removed]"
     },
     "metadata": {},
     "output_type": "display_data"
    }
   ],
   "execution_count": 18
  },
  {
   "metadata": {},
   "cell_type": "code",
   "outputs": [],
   "execution_count": null,
   "source": "",
   "id": "d2d10af92f75f215"
  },
  {
   "metadata": {},
   "cell_type": "code",
   "outputs": [],
   "execution_count": null,
   "source": "",
   "id": "7570ad782fcc5ed"
  },
  {
   "metadata": {},
   "cell_type": "code",
   "outputs": [],
   "execution_count": null,
   "source": "",
   "id": "b875667ab26af6d"
  },
  {
   "metadata": {},
   "cell_type": "code",
   "outputs": [],
   "execution_count": null,
   "source": "",
   "id": "6f80750463fe3330"
  },
  {
   "metadata": {},
   "cell_type": "code",
   "outputs": [],
   "execution_count": null,
   "source": "",
   "id": "2bed55d818f34fab"
  },
  {
   "metadata": {},
   "cell_type": "code",
   "outputs": [],
   "execution_count": null,
   "source": "",
   "id": "609e09527e8dc479"
  },
  {
   "metadata": {},
   "cell_type": "code",
   "outputs": [],
   "execution_count": null,
   "source": "",
   "id": "977bde93ee4fccbd"
  },
  {
   "metadata": {},
   "cell_type": "code",
   "outputs": [],
   "execution_count": null,
   "source": "",
   "id": "dfbd5ed6fc94d9eb"
  },
  {
   "metadata": {},
   "cell_type": "code",
   "outputs": [],
   "execution_count": null,
   "source": "",
   "id": "5e24538c73ac91fe"
  },
  {
   "metadata": {},
   "cell_type": "code",
   "outputs": [],
   "execution_count": null,
   "source": "",
   "id": "142e2b3d70d943d9"
  },
  {
   "metadata": {},
   "cell_type": "code",
   "outputs": [],
   "execution_count": null,
   "source": "",
   "id": "1a617cfad3ba28f1"
  }
 ],
 "metadata": {
  "kernelspec": {
   "display_name": "Python 3",
   "language": "python",
   "name": "python3"
  },
  "language_info": {
   "codemirror_mode": {
    "name": "ipython",
    "version": 2
   },
   "file_extension": ".py",
   "mimetype": "text/x-python",
   "name": "python",
   "nbconvert_exporter": "python",
   "pygments_lexer": "ipython2",
   "version": "2.7.6"
  }
 },
 "nbformat": 4,
 "nbformat_minor": 5
}
